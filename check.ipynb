{
 "cells": [
  {
   "cell_type": "code",
   "execution_count": 1,
   "metadata": {},
   "outputs": [],
   "source": [
    "from models import *\n",
    "from qhoptim.pyt import QHAdam\n",
    "import pytorch_lightning as pl"
   ]
  },
  {
   "cell_type": "code",
   "execution_count": 2,
   "metadata": {},
   "outputs": [
    {
     "name": "stdout",
     "output_type": "stream",
     "text": [
      "1\n"
     ]
    }
   ],
   "source": [
    "import build\n",
    "loader = build.dataloader(data='dataset_v6', sample_length=4096, part=0.001, batch_size=1, shuffle=True)\n",
    "print(len(loader))"
   ]
  },
  {
   "cell_type": "code",
   "execution_count": 3,
   "metadata": {},
   "outputs": [
    {
     "name": "stdout",
     "output_type": "stream",
     "text": [
      "torch.Size([1, 256, 4096]) torch.Size([1])\n"
     ]
    }
   ],
   "source": [
    "x, y = next(iter(loader))\n",
    "print(x.shape, y.shape)"
   ]
  },
  {
   "cell_type": "code",
   "execution_count": 4,
   "metadata": {},
   "outputs": [
    {
     "name": "stdout",
     "output_type": "stream",
     "text": [
      "tensor(0.) tensor(1.)\n"
     ]
    }
   ],
   "source": [
    "print(x.min(), x.max())"
   ]
  },
  {
   "cell_type": "code",
   "execution_count": 5,
   "metadata": {},
   "outputs": [],
   "source": [
    "from models import *\n",
    "from qhoptim.pyt import QHAdam\n",
    "import pytorch_lightning as pl\n",
    "\n",
    "import build\n",
    "loader = build.dataloader(data='dataset_v6', sample_length=2**13, part=0.001, batch_size=1, shuffle=True)\n"
   ]
  },
  {
   "cell_type": "code",
   "execution_count": 6,
   "metadata": {},
   "outputs": [],
   "source": [
    "premodel = MixtureNet(layers=3, blocks=3, res_channels=32, end_channels=32, classes=256, groups=16)"
   ]
  },
  {
   "cell_type": "code",
   "execution_count": 7,
   "metadata": {},
   "outputs": [],
   "source": [
    "def NLL(y_hat, y):\n",
    "    assert y_hat.shape == y.shape\n",
    "    assert y_hat.dim() == 3 # (batch, channels, length)\n",
    "    return -(y * torch.log(y_hat) + (1 - y) * torch.log(1 - y_hat)).sum(dim=1).mean()\n",
    "\n",
    "class DaNet(pl.LightningModule):\n",
    "    def __init__(self, model_loader, noise=0.0, lr=0.0):\n",
    "        super().__init__()\n",
    "        self.save_hyperparameters()\n",
    "        self.model = eval(model_loader)\n",
    "        self.lr = lr\n",
    "        self.output_size = 2**12\n",
    "    \n",
    "    def forward(self, x):\n",
    "        return self.model(x)\n",
    "    \n",
    "    def training_step(self, batch, batch_idx):\n",
    "        x, aux = batch\n",
    "        inp = F.pad(x, (1, -1)) + torch.randn_like(x) * self.hparams.noise\n",
    "        x_hat = self.forward(inp)\n",
    "        loss = NLL(x_hat[-self.output_size:], x[-self.output_size:])\n",
    "        self.log(\"train_loss\", loss)\n",
    "        return loss\n",
    "    \n",
    "    def configure_optimizers(self):\n",
    "        optimizer = QHAdam(self.parameters(), lr=self.lr, nus=(0.7, 1.0))\n",
    "        return {\"optimizer\": optimizer, \"lr_scheduler\": torch.optim.lr_scheduler.ExponentialLR(optimizer, gamma=0.5**0.001)}"
   ]
  },
  {
   "cell_type": "code",
   "execution_count": 10,
   "metadata": {},
   "outputs": [],
   "source": [
    "model = DaNet(module_description(premodel), noise=0.0, lr=1e-9)"
   ]
  },
  {
   "cell_type": "code",
   "execution_count": 11,
   "metadata": {},
   "outputs": [
    {
     "name": "stderr",
     "output_type": "stream",
     "text": [
      "GPU available: False, used: False\n",
      "TPU available: False, using: 0 TPU cores\n",
      "IPU available: False, using: 0 IPUs\n",
      "HPU available: False, using: 0 HPUs\n",
      "\n",
      "  | Name  | Type       | Params\n",
      "-------------------------------------\n",
      "0 | model | MixtureNet | 11.8 K\n",
      "-------------------------------------\n",
      "11.8 K    Trainable params\n",
      "0         Non-trainable params\n",
      "11.8 K    Total params\n",
      "0.047     Total estimated model params size (MB)\n"
     ]
    },
    {
     "name": "stdout",
     "output_type": "stream",
     "text": [
      "Epoch 10:   0%|          | 0/1 [00:00<?, ?it/s, loss=0.029, v_num=11]        "
     ]
    }
   ],
   "source": [
    "trainer = pl.Trainer(log_every_n_steps=1)\n",
    "trainer.fit(model, train_dataloaders=loader)"
   ]
  },
  {
   "cell_type": "code",
   "execution_count": 21,
   "metadata": {},
   "outputs": [
    {
     "name": "stdout",
     "output_type": "stream",
     "text": [
      "tensor(0.0039, grad_fn=<MeanBackward0>) tensor(0.0238, grad_fn=<StdBackward0>)\n",
      "tensor(0.0290, grad_fn=<NegBackward0>)\n"
     ]
    }
   ],
   "source": [
    "x = torch.randn((10, 256, 2**13))\n",
    "y = model(x)\n",
    "print(y.mean(), y.std())\n",
    "t = y[0, :, -1].view(1, -1, 1)\n",
    "# print(t)\n",
    "d = F.one_hot(torch.tensor(36), 256).view(1, -1, 1)\n",
    "print(NLL(t, d))"
   ]
  },
  {
   "cell_type": "code",
   "execution_count": null,
   "metadata": {},
   "outputs": [],
   "source": [
    "for p in model.parameters():\n",
    "    print(p)"
   ]
  }
 ],
 "metadata": {
  "kernelspec": {
   "display_name": "Python 3.9.6 64-bit",
   "language": "python",
   "name": "python3"
  },
  "language_info": {
   "codemirror_mode": {
    "name": "ipython",
    "version": 3
   },
   "file_extension": ".py",
   "mimetype": "text/x-python",
   "name": "python",
   "nbconvert_exporter": "python",
   "pygments_lexer": "ipython3",
   "version": "3.9.6"
  },
  "orig_nbformat": 4,
  "vscode": {
   "interpreter": {
    "hash": "ca08f1800f1327b29739f6d5cf8c05fcad1e5c94a5d4ed8fe734038b88ea7e33"
   }
  }
 },
 "nbformat": 4,
 "nbformat_minor": 2
}
