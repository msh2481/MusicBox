{
 "cells": [
  {
   "cell_type": "code",
   "execution_count": 1,
   "metadata": {},
   "outputs": [],
   "source": [
    "import torch \n",
    "from train import trainAR\n",
    "from models import *\n",
    "from matplotlib import pyplot as plt\n",
    "import build"
   ]
  },
  {
   "cell_type": "code",
   "execution_count": 2,
   "metadata": {},
   "outputs": [],
   "source": [
    "def gen_signal(freq):\n",
    "    return torch.sin(freq * torch.arange(0, 1000).float()).view(1, 1000) * 0.9\n",
    "dataset = [(gen_signal(f), 0) for f in torch.arange(0.1, 1.0, 0.01)]\n",
    "loader = torch.utils.data.DataLoader(dataset, batch_size=10, shuffle=True)"
   ]
  },
  {
   "cell_type": "code",
   "execution_count": 3,
   "metadata": {},
   "outputs": [
    {
     "name": "stdout",
     "output_type": "stream",
     "text": [
      "243402 parameters\n",
      "Sequential(\n",
      "  (0): Sequential(\n",
      "    (0): BatchNorm1d(1, eps=1e-05, momentum=0.1, affine=True, track_running_stats=True)\n",
      "    (1): Activation(negative_slope=0.2)\n",
      "    (2): Padded(\n",
      "      padding=(2, -1)\n",
      "      (f): Conv1d(1, 100, kernel_size=(2,), stride=(1,), bias=False)\n",
      "    )\n",
      "  )\n",
      "  (1): Sum(\n",
      "    (f): Identity()\n",
      "    (g): Product(\n",
      "      (f): Sequential(\n",
      "        (0): Sequential(\n",
      "          (0): BatchNorm1d(100, eps=1e-05, momentum=0.1, affine=True, track_running_stats=True)\n",
      "          (1): Activation(negative_slope=0.2)\n",
      "          (2): Padded(\n",
      "            padding=(2, 0)\n",
      "            (f): Conv1d(100, 100, kernel_size=(2,), stride=(1,), dilation=(2,), bias=False)\n",
      "          )\n",
      "        )\n",
      "        (1): Tanh()\n",
      "      )\n",
      "      (g): Sequential(\n",
      "        (0): Sequential(\n",
      "          (0): BatchNorm1d(100, eps=1e-05, momentum=0.1, affine=True, track_running_stats=True)\n",
      "          (1): Activation(negative_slope=0.2)\n",
      "          (2): Padded(\n",
      "            padding=(2, 0)\n",
      "            (f): Conv1d(100, 100, kernel_size=(2,), stride=(1,), dilation=(2,), bias=False)\n",
      "          )\n",
      "        )\n",
      "        (1): Sigmoid()\n",
      "      )\n",
      "    )\n",
      "  )\n",
      "  (2): Sum(\n",
      "    (f): Identity()\n",
      "    (g): Product(\n",
      "      (f): Sequential(\n",
      "        (0): Sequential(\n",
      "          (0): BatchNorm1d(100, eps=1e-05, momentum=0.1, affine=True, track_running_stats=True)\n",
      "          (1): Activation(negative_slope=0.2)\n",
      "          (2): Padded(\n",
      "            padding=(4, 0)\n",
      "            (f): Conv1d(100, 100, kernel_size=(2,), stride=(1,), dilation=(4,), bias=False)\n",
      "          )\n",
      "        )\n",
      "        (1): Tanh()\n",
      "      )\n",
      "      (g): Sequential(\n",
      "        (0): Sequential(\n",
      "          (0): BatchNorm1d(100, eps=1e-05, momentum=0.1, affine=True, track_running_stats=True)\n",
      "          (1): Activation(negative_slope=0.2)\n",
      "          (2): Padded(\n",
      "            padding=(4, 0)\n",
      "            (f): Conv1d(100, 100, kernel_size=(2,), stride=(1,), dilation=(4,), bias=False)\n",
      "          )\n",
      "        )\n",
      "        (1): Sigmoid()\n",
      "      )\n",
      "    )\n",
      "  )\n",
      "  (3): Sum(\n",
      "    (f): Identity()\n",
      "    (g): Product(\n",
      "      (f): Sequential(\n",
      "        (0): Sequential(\n",
      "          (0): BatchNorm1d(100, eps=1e-05, momentum=0.1, affine=True, track_running_stats=True)\n",
      "          (1): Activation(negative_slope=0.2)\n",
      "          (2): Padded(\n",
      "            padding=(8, 0)\n",
      "            (f): Conv1d(100, 100, kernel_size=(2,), stride=(1,), dilation=(8,), bias=False)\n",
      "          )\n",
      "        )\n",
      "        (1): Tanh()\n",
      "      )\n",
      "      (g): Sequential(\n",
      "        (0): Sequential(\n",
      "          (0): BatchNorm1d(100, eps=1e-05, momentum=0.1, affine=True, track_running_stats=True)\n",
      "          (1): Activation(negative_slope=0.2)\n",
      "          (2): Padded(\n",
      "            padding=(8, 0)\n",
      "            (f): Conv1d(100, 100, kernel_size=(2,), stride=(1,), dilation=(8,), bias=False)\n",
      "          )\n",
      "        )\n",
      "        (1): Sigmoid()\n",
      "      )\n",
      "    )\n",
      "  )\n",
      "  (4): Sum(\n",
      "    (f): Identity()\n",
      "    (g): Product(\n",
      "      (f): Sequential(\n",
      "        (0): Sequential(\n",
      "          (0): BatchNorm1d(100, eps=1e-05, momentum=0.1, affine=True, track_running_stats=True)\n",
      "          (1): Activation(negative_slope=0.2)\n",
      "          (2): Padded(\n",
      "            padding=(16, 0)\n",
      "            (f): Conv1d(100, 100, kernel_size=(2,), stride=(1,), dilation=(16,), bias=False)\n",
      "          )\n",
      "        )\n",
      "        (1): Tanh()\n",
      "      )\n",
      "      (g): Sequential(\n",
      "        (0): Sequential(\n",
      "          (0): BatchNorm1d(100, eps=1e-05, momentum=0.1, affine=True, track_running_stats=True)\n",
      "          (1): Activation(negative_slope=0.2)\n",
      "          (2): Padded(\n",
      "            padding=(16, 0)\n",
      "            (f): Conv1d(100, 100, kernel_size=(2,), stride=(1,), dilation=(16,), bias=False)\n",
      "          )\n",
      "        )\n",
      "        (1): Sigmoid()\n",
      "      )\n",
      "    )\n",
      "  )\n",
      "  (5): Sum(\n",
      "    (f): Identity()\n",
      "    (g): Product(\n",
      "      (f): Sequential(\n",
      "        (0): Sequential(\n",
      "          (0): BatchNorm1d(100, eps=1e-05, momentum=0.1, affine=True, track_running_stats=True)\n",
      "          (1): Activation(negative_slope=0.2)\n",
      "          (2): Padded(\n",
      "            padding=(32, 0)\n",
      "            (f): Conv1d(100, 100, kernel_size=(2,), stride=(1,), dilation=(32,), bias=False)\n",
      "          )\n",
      "        )\n",
      "        (1): Tanh()\n",
      "      )\n",
      "      (g): Sequential(\n",
      "        (0): Sequential(\n",
      "          (0): BatchNorm1d(100, eps=1e-05, momentum=0.1, affine=True, track_running_stats=True)\n",
      "          (1): Activation(negative_slope=0.2)\n",
      "          (2): Padded(\n",
      "            padding=(32, 0)\n",
      "            (f): Conv1d(100, 100, kernel_size=(2,), stride=(1,), dilation=(32,), bias=False)\n",
      "          )\n",
      "        )\n",
      "        (1): Sigmoid()\n",
      "      )\n",
      "    )\n",
      "  )\n",
      "  (6): Sum(\n",
      "    (f): Identity()\n",
      "    (g): Product(\n",
      "      (f): Sequential(\n",
      "        (0): Sequential(\n",
      "          (0): BatchNorm1d(100, eps=1e-05, momentum=0.1, affine=True, track_running_stats=True)\n",
      "          (1): Activation(negative_slope=0.2)\n",
      "          (2): Padded(\n",
      "            padding=(64, 0)\n",
      "            (f): Conv1d(100, 100, kernel_size=(2,), stride=(1,), dilation=(64,), bias=False)\n",
      "          )\n",
      "        )\n",
      "        (1): Tanh()\n",
      "      )\n",
      "      (g): Sequential(\n",
      "        (0): Sequential(\n",
      "          (0): BatchNorm1d(100, eps=1e-05, momentum=0.1, affine=True, track_running_stats=True)\n",
      "          (1): Activation(negative_slope=0.2)\n",
      "          (2): Padded(\n",
      "            padding=(64, 0)\n",
      "            (f): Conv1d(100, 100, kernel_size=(2,), stride=(1,), dilation=(64,), bias=False)\n",
      "          )\n",
      "        )\n",
      "        (1): Sigmoid()\n",
      "      )\n",
      "    )\n",
      "  )\n",
      "  (7): Sum(\n",
      "    (f): Identity()\n",
      "    (g): Product(\n",
      "      (f): Sequential(\n",
      "        (0): Sequential(\n",
      "          (0): BatchNorm1d(100, eps=1e-05, momentum=0.1, affine=True, track_running_stats=True)\n",
      "          (1): Activation(negative_slope=0.2)\n",
      "          (2): Padded(\n",
      "            padding=(128, 0)\n",
      "            (f): Conv1d(100, 1, kernel_size=(2,), stride=(1,), dilation=(128,), bias=False)\n",
      "          )\n",
      "        )\n",
      "        (1): Tanh()\n",
      "      )\n",
      "      (g): Sequential(\n",
      "        (0): Sequential(\n",
      "          (0): BatchNorm1d(100, eps=1e-05, momentum=0.1, affine=True, track_running_stats=True)\n",
      "          (1): Activation(negative_slope=0.2)\n",
      "          (2): Padded(\n",
      "            padding=(128, 0)\n",
      "            (f): Conv1d(100, 1, kernel_size=(2,), stride=(1,), dilation=(128,), bias=False)\n",
      "          )\n",
      "        )\n",
      "        (1): Sigmoid()\n",
      "      )\n",
      "    )\n",
      "  )\n",
      "  (8): Tanh()\n",
      ")\n"
     ]
    }
   ],
   "source": [
    "c = 100\n",
    "model = Sequential(\n",
    "    ConvBlock(1, c, 1, shift=1),\n",
    "    Res(GatedConvBlock(c, c, 2)),\n",
    "    Res(GatedConvBlock(c, c, 4)),\n",
    "    Res(GatedConvBlock(c, c, 8)),\n",
    "    Res(GatedConvBlock(c, c, 16)),\n",
    "    Res(GatedConvBlock(c, c, 32)),\n",
    "    Res(GatedConvBlock(c, c, 64)),\n",
    "    Res(GatedConvBlock(c, 1, 128)),\n",
    "    torch.nn.Tanh()\n",
    ")\n",
    "print(sum(p.numel() for p in model.parameters()), 'parameters')\n",
    "print(model)"
   ]
  },
  {
   "cell_type": "code",
   "execution_count": 10,
   "metadata": {},
   "outputs": [
    {
     "name": "stderr",
     "output_type": "stream",
     "text": [
      "  0%|          | 0/10 [00:00<?, ?it/s]c:\\home\\ml\\MusicBox\\build.py:108: UserWarning: Using a target size (torch.Size([10, 1, 1000])) that is different to the input size (torch.Size([10, 100, 1000])). This will likely lead to incorrect results due to broadcasting. Please ensure they have the same size.\n",
      "  mse = F.mse_loss(input, target)\n"
     ]
    },
    {
     "name": "stdout",
     "output_type": "stream",
     "text": [
      "\n",
      "Epoch: 0.00\tmse: 0.040014032274484634 \n",
      "\n",
      "Epoch: 0.11\tmse: 0.09262707084417343 \n",
      "\n",
      "Epoch: 0.22\tmse: 0.050503991544246674 \n",
      "\n",
      "Epoch: 0.33\tmse: 0.08820189535617828 \n",
      "\n",
      "Epoch: 0.44\tmse: 0.06360767036676407 \n",
      "\n",
      "Epoch: 0.56\tmse: 0.06621057540178299 \n",
      "\n",
      "Epoch: 0.67\tmse: 0.06162159517407417 \n",
      "\n",
      "Epoch: 0.78\tmse: 0.07111571729183197 \n",
      "\n",
      "Epoch: 0.89\tmse: 0.052187081426382065 \n"
     ]
    },
    {
     "name": "stderr",
     "output_type": "stream",
     "text": [
      " 10%|█         | 1/10 [00:05<00:49,  5.49s/it]"
     ]
    },
    {
     "name": "stdout",
     "output_type": "stream",
     "text": [
      "\n",
      "Epoch: 1.00\tmse: 0.05505753308534622 \n",
      "\n",
      "Epoch: 1.11\tmse: 0.056764230132102966 \n",
      "\n",
      "Epoch: 1.22\tmse: 0.05760074034333229 \n",
      "\n",
      "Epoch: 1.33\tmse: 0.05545283854007721 \n",
      "\n",
      "Epoch: 1.44\tmse: 0.05745379254221916 \n",
      "\n",
      "Epoch: 1.56\tmse: 0.057339005172252655 \n",
      "\n",
      "Epoch: 1.67\tmse: 0.04754992201924324 \n",
      "\n",
      "Epoch: 1.78\tmse: 0.05055147781968117 \n",
      "\n",
      "Epoch: 1.89\tmse: 0.04799690470099449 \n"
     ]
    },
    {
     "name": "stderr",
     "output_type": "stream",
     "text": [
      " 20%|██        | 2/10 [00:10<00:40,  5.10s/it]"
     ]
    },
    {
     "name": "stdout",
     "output_type": "stream",
     "text": [
      "\n",
      "Epoch: 2.00\tmse: 0.043036844581365585 \n",
      "\n",
      "Epoch: 2.11\tmse: 0.03982533514499664 \n",
      "\n",
      "Epoch: 2.22\tmse: 0.04168994352221489 \n",
      "\n",
      "Epoch: 2.33\tmse: 0.0462447814643383 \n",
      "\n",
      "Epoch: 2.44\tmse: 0.04369409382343292 \n",
      "\n",
      "Epoch: 2.56\tmse: 0.04062575846910477 \n",
      "\n",
      "Epoch: 2.67\tmse: 0.03956710919737816 \n",
      "\n",
      "Epoch: 2.78\tmse: 0.04110093042254448 \n",
      "\n",
      "Epoch: 2.89\tmse: 0.04346773400902748 \n"
     ]
    },
    {
     "name": "stderr",
     "output_type": "stream",
     "text": [
      " 30%|███       | 3/10 [00:14<00:32,  4.68s/it]"
     ]
    },
    {
     "name": "stdout",
     "output_type": "stream",
     "text": [
      "\n",
      "Epoch: 3.00\tmse: 0.038613732904195786 \n",
      "\n",
      "Epoch: 3.11\tmse: 0.03581720218062401 \n",
      "\n",
      "Epoch: 3.22\tmse: 0.03557145223021507 \n",
      "\n",
      "Epoch: 3.33\tmse: 0.035400692373514175 \n",
      "\n",
      "Epoch: 3.44\tmse: 0.03560962155461311 \n",
      "\n",
      "Epoch: 3.56\tmse: 0.03743951395153999 \n",
      "\n",
      "Epoch: 3.67\tmse: 0.03352172672748566 \n",
      "\n",
      "Epoch: 3.78\tmse: 0.035398051142692566 \n",
      "\n",
      "Epoch: 3.89\tmse: 0.03292294219136238 \n"
     ]
    },
    {
     "name": "stderr",
     "output_type": "stream",
     "text": [
      " 40%|████      | 4/10 [00:18<00:26,  4.41s/it]"
     ]
    },
    {
     "name": "stdout",
     "output_type": "stream",
     "text": [
      "\n",
      "Epoch: 4.00\tmse: 0.031316276639699936 \n",
      "\n",
      "Epoch: 4.11\tmse: 0.030569152906537056 \n",
      "\n",
      "Epoch: 4.22\tmse: 0.030858373269438744 \n",
      "\n",
      "Epoch: 4.33\tmse: 0.03294360265135765 \n",
      "\n",
      "Epoch: 4.44\tmse: 0.03159430995583534 \n",
      "\n",
      "Epoch: 4.56\tmse: 0.030707694590091705 \n",
      "\n",
      "Epoch: 4.67\tmse: 0.03245730325579643 \n",
      "\n",
      "Epoch: 4.78\tmse: 0.03441161662340164 \n",
      "\n",
      "Epoch: 4.89\tmse: 0.031657785177230835 \n"
     ]
    },
    {
     "name": "stderr",
     "output_type": "stream",
     "text": [
      " 50%|█████     | 5/10 [00:22<00:21,  4.23s/it]"
     ]
    },
    {
     "name": "stdout",
     "output_type": "stream",
     "text": [
      "\n",
      "Epoch: 5.00\tmse: 0.028314070776104927 \n",
      "\n",
      "Epoch: 5.11\tmse: 0.03258262947201729 \n",
      "\n",
      "Epoch: 5.22\tmse: 0.028645899146795273 \n",
      "\n",
      "Epoch: 5.33\tmse: 0.031132565811276436 \n",
      "\n",
      "Epoch: 5.44\tmse: 0.02805374190211296 \n",
      "\n",
      "Epoch: 5.56\tmse: 0.03016585484147072 \n",
      "\n",
      "Epoch: 5.67\tmse: 0.028697194531559944 \n",
      "\n",
      "Epoch: 5.78\tmse: 0.029463302344083786 \n",
      "\n",
      "Epoch: 5.89\tmse: 0.02802165411412716 \n"
     ]
    },
    {
     "name": "stderr",
     "output_type": "stream",
     "text": [
      " 60%|██████    | 6/10 [00:26<00:16,  4.08s/it]"
     ]
    },
    {
     "name": "stdout",
     "output_type": "stream",
     "text": [
      "\n",
      "Epoch: 6.00\tmse: 0.027811387553811073 \n",
      "\n",
      "Epoch: 6.11\tmse: 0.028843047097325325 \n",
      "\n",
      "Epoch: 6.22\tmse: 0.02745111659169197 \n",
      "\n",
      "Epoch: 6.33\tmse: 0.028812231495976448 \n",
      "\n",
      "Epoch: 6.44\tmse: 0.02587616816163063 \n",
      "\n",
      "Epoch: 6.56\tmse: 0.025976717472076416 \n",
      "\n",
      "Epoch: 6.67\tmse: 0.026814991608262062 \n",
      "\n",
      "Epoch: 6.78\tmse: 0.028704920783638954 \n",
      "\n",
      "Epoch: 6.89\tmse: 0.026234693825244904 \n"
     ]
    },
    {
     "name": "stderr",
     "output_type": "stream",
     "text": [
      " 70%|███████   | 7/10 [00:29<00:11,  3.97s/it]"
     ]
    },
    {
     "name": "stdout",
     "output_type": "stream",
     "text": [
      "\n",
      "Epoch: 7.00\tmse: 0.024098295718431473 \n",
      "\n",
      "Epoch: 7.11\tmse: 0.025437556207180023 \n",
      "\n",
      "Epoch: 7.22\tmse: 0.029242539778351784 \n",
      "\n",
      "Epoch: 7.33\tmse: 0.026780078187584877 \n",
      "\n",
      "Epoch: 7.44\tmse: 0.02689788118004799 \n",
      "\n",
      "Epoch: 7.56\tmse: 0.023239342495799065 \n",
      "\n",
      "Epoch: 7.67\tmse: 0.02891921065747738 \n",
      "\n",
      "Epoch: 7.78\tmse: 0.025220362469553947 \n",
      "\n",
      "Epoch: 7.89\tmse: 0.028984541073441505 \n"
     ]
    },
    {
     "name": "stderr",
     "output_type": "stream",
     "text": [
      " 80%|████████  | 8/10 [00:33<00:07,  3.93s/it]"
     ]
    },
    {
     "name": "stdout",
     "output_type": "stream",
     "text": [
      "\n",
      "Epoch: 8.00\tmse: 0.024820972234010696 \n",
      "\n",
      "Epoch: 8.11\tmse: 0.02670309692621231 \n",
      "\n",
      "Epoch: 8.22\tmse: 0.0266940426081419 \n",
      "\n",
      "Epoch: 8.33\tmse: 0.024590466171503067 \n",
      "\n",
      "Epoch: 8.44\tmse: 0.028183484449982643 \n",
      "\n",
      "Epoch: 8.56\tmse: 0.02673330530524254 \n",
      "\n",
      "Epoch: 8.67\tmse: 0.0252450592815876 \n",
      "\n",
      "Epoch: 8.78\tmse: 0.02804459258913994 \n",
      "\n",
      "Epoch: 8.89\tmse: 0.02427610196173191 \n"
     ]
    },
    {
     "name": "stderr",
     "output_type": "stream",
     "text": [
      " 90%|█████████ | 9/10 [00:37<00:03,  3.86s/it]"
     ]
    },
    {
     "name": "stdout",
     "output_type": "stream",
     "text": [
      "\n",
      "Epoch: 9.00\tmse: 0.024870891124010086 \n",
      "\n",
      "Epoch: 9.11\tmse: 0.024309126660227776 \n",
      "\n",
      "Epoch: 9.22\tmse: 0.023234952241182327 \n",
      "\n",
      "Epoch: 9.33\tmse: 0.026476344093680382 \n",
      "\n",
      "Epoch: 9.44\tmse: 0.022799598053097725 \n",
      "\n",
      "Epoch: 9.56\tmse: 0.022863397374749184 \n",
      "\n",
      "Epoch: 9.67\tmse: 0.021771140396595 \n",
      "\n",
      "Epoch: 9.78\tmse: 0.02400866709649563 \n",
      "\n",
      "Epoch: 9.89\tmse: 0.025594200938940048 \n"
     ]
    },
    {
     "name": "stderr",
     "output_type": "stream",
     "text": [
      "100%|██████████| 10/10 [00:41<00:00,  4.12s/it]\n"
     ]
    },
    {
     "data": {
      "text/plain": [
       "0.02399203533099757"
      ]
     },
     "execution_count": 10,
     "metadata": {},
     "output_type": "execute_result"
    }
   ],
   "source": [
    "trainAR(\n",
    "    trial=None,\n",
    "    device='cpu',\n",
    "    loader=loader,\n",
    "    noise=1.0,\n",
    "    model=model,\n",
    "    optim=torch.optim.Adam(model.parameters()),\n",
    "    sched=None,\n",
    "    criterion=build.criterion(),\n",
    "    logger=build.logger(console=True, save_rate=None, sample_rate=None), # fix sampling\n",
    "    epochs=10\n",
    ")"
   ]
  },
  {
   "cell_type": "code",
   "execution_count": 5,
   "metadata": {},
   "outputs": [],
   "source": [
    "from tqdm.notebook import tqdm"
   ]
  },
  {
   "cell_type": "code",
   "execution_count": 11,
   "metadata": {},
   "outputs": [
    {
     "data": {
      "application/vnd.jupyter.widget-view+json": {
       "model_id": "cb102247d0b34910b5a0c00e04b2d9df",
       "version_major": 2,
       "version_minor": 0
      },
      "text/plain": [
       "  0%|          | 0/200 [00:00<?, ?it/s]"
      ]
     },
     "metadata": {},
     "output_type": "display_data"
    }
   ],
   "source": [
    "def gen(x, model):\n",
    "    x = torch.cat((x[-1000:], torch.zeros(1, 1)), dim=1)\n",
    "    y = model(x.unsqueeze(0)).squeeze(0)\n",
    "    x[0, -1] = y[0, -1]\n",
    "    return x.clone()\n",
    "\n",
    "x = gen_signal(0.17)\n",
    "model.eval()\n",
    "for i in tqdm(range(200)):\n",
    "    x = gen(x, model)"
   ]
  },
  {
   "cell_type": "code",
   "execution_count": 12,
   "metadata": {},
   "outputs": [],
   "source": [
    "t = x.clone()"
   ]
  },
  {
   "cell_type": "code",
   "execution_count": 13,
   "metadata": {},
   "outputs": [
    {
     "data": {
      "image/png": "[encoded data removed]",
      "text/plain": [
       "<Figure size 1440x720 with 1 Axes>"
      ]
     },
     "metadata": {
      "needs_background": "light"
     },
     "output_type": "display_data"
    }
   ],
   "source": [
    "plt.figure(figsize=(20, 10))\n",
    "t = x[0, 800:]\n",
    "plt.plot(t.detach())\n",
    "plt.plot(t[:-200].detach())\n",
    "plt.show()"
   ]
  },
  {
   "cell_type": "code",
   "execution_count": 14,
   "metadata": {},
   "outputs": [
    {
     "data": {
      "image/png": "[encoded data removed]",
      "text/plain": [
       "<Figure size 720x720 with 1 Axes>"
      ]
     },
     "metadata": {
      "needs_background": "light"
     },
     "output_type": "display_data"
    }
   ],
   "source": [
    "from dct import sdct\n",
    "s = 16\n",
    "w = sdct(t.detach().numpy(), frame_length=s, frame_step=s)\n",
    "plt.figure(figsize=(10, 10))\n",
    "plt.imshow(w)\n",
    "plt.show()"
   ]
  }
 ],
 "metadata": {
  "kernelspec": {
   "display_name": "Python 3.9.6 64-bit",
   "language": "python",
   "name": "python3"
  },
  "language_info": {
   "codemirror_mode": {
    "name": "ipython",
    "version": 3
   },
   "file_extension": ".py",
   "mimetype": "text/x-python",
   "name": "python",
   "nbconvert_exporter": "python",
   "pygments_lexer": "ipython3",
   "version": "3.9.6"
  },
  "orig_nbformat": 4,
  "vscode": {
   "interpreter": {
    "hash": "ca08f1800f1327b29739f6d5cf8c05fcad1e5c94a5d4ed8fe734038b88ea7e33"
   }
  }
 },
 "nbformat": 4,
 "nbformat_minor": 2
}
