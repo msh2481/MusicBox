{
 "cells": [
  {
   "cell_type": "code",
   "execution_count": 2,
   "metadata": {},
   "outputs": [],
   "source": [
    "import torch\n",
    "from torch import nn"
   ]
  },
  {
   "cell_type": "code",
   "execution_count": 3,
   "metadata": {},
   "outputs": [],
   "source": [
    "x = torch.randn(10, 1)\n",
    "y = x.clone()"
   ]
  },
  {
   "cell_type": "code",
   "execution_count": 4,
   "metadata": {},
   "outputs": [],
   "source": [
    "def train(model):\n",
    "    model.train()\n",
    "    opt = torch.optim.Adam(model.parameters())\n",
    "    for it in range(5000):\n",
    "        p = model(x)\n",
    "        l = ((p - y) ** 2).sum()\n",
    "        if it % 500 == 0:\n",
    "            print(it, l.item())\n",
    "        opt.zero_grad()\n",
    "        l.backward()\n",
    "        opt.step()\n"
   ]
  },
  {
   "cell_type": "code",
   "execution_count": 5,
   "metadata": {},
   "outputs": [],
   "source": [
    "model = nn.Sequential(nn.BatchNorm1d(1), nn.ReLU(), nn.Linear(1, 1))"
   ]
  },
  {
   "cell_type": "code",
   "execution_count": 6,
   "metadata": {},
   "outputs": [
    {
     "name": "stdout",
     "output_type": "stream",
     "text": [
      "0 8.26923656463623\n",
      "500 2.0170629024505615\n",
      "1000 1.0383621454238892\n",
      "1500 0.5962178111076355\n",
      "2000 0.2949361205101013\n",
      "2500 0.10182865709066391\n",
      "3000 0.023694483563303947\n",
      "3500 0.003375725354999304\n",
      "4000 0.00025897397426888347\n",
      "4500 9.0412459030631e-06\n"
     ]
    }
   ],
   "source": [
    "train(model)"
   ]
  },
  {
   "cell_type": "code",
   "execution_count": 8,
   "metadata": {},
   "outputs": [
    {
     "data": {
      "text/plain": [
       "<All keys matched successfully>"
      ]
     },
     "execution_count": 8,
     "metadata": {},
     "output_type": "execute_result"
    }
   ],
   "source": [
    "torch.save(model.state_dict(), 'a.p')\n",
    "model = nn.Sequential(nn.BatchNorm1d(1), nn.ReLU(), nn.Linear(1, 1))\n",
    "model.load_state_dict(torch.load('a.p'))"
   ]
  },
  {
   "cell_type": "code",
   "execution_count": 56,
   "metadata": {},
   "outputs": [
    {
     "name": "stdout",
     "output_type": "stream",
     "text": [
      "[('weight', Parameter containing:\n",
      "tensor([1.0692], requires_grad=True)), ('bias', Parameter containing:\n",
      "tensor([2.0191], requires_grad=True))]\n"
     ]
    }
   ],
   "source": [
    "modules = list(model.children())\n",
    "params = list(modules[0].named_parameters())\n",
    "print(params)"
   ]
  },
  {
   "cell_type": "code",
   "execution_count": 13,
   "metadata": {},
   "outputs": [
    {
     "name": "stdout",
     "output_type": "stream",
     "text": [
      "tensor(0.2015) tensor(0.8671) tensor(0.7519)\n"
     ]
    }
   ],
   "source": [
    "print(x.mean(), x.std(), x.std() ** 2)\n",
    "o = torch.ones_like(x)"
   ]
  },
  {
   "cell_type": "code",
   "execution_count": 55,
   "metadata": {},
   "outputs": [
    {
     "name": "stdout",
     "output_type": "stream",
     "text": [
      "[2.01910400390625, 2.01910400390625, 2.01910400390625, 2.01910400390625, 2.01910400390625, 2.01910400390625, 2.01910400390625, 2.01910400390625, 2.01910400390625, 2.01910400390625]\n"
     ]
    }
   ],
   "source": [
    "model.train()\n",
    "print(modules[0](o).detach().flatten().tolist())\n",
    "# print(((model(x) - y) ** 2).sum())"
   ]
  },
  {
   "cell_type": "code",
   "execution_count": 148,
   "metadata": {},
   "outputs": [
    {
     "name": "stdout",
     "output_type": "stream",
     "text": [
      "0 2.988603808873336e-10\n",
      "500 7.350795319660541e-13\n",
      "1000 5.432329933108271e-13\n",
      "1500 1.0935783528731591e-13\n",
      "2000 9.310971904596954e-08\n",
      "2500 3.089507538689418e-10\n",
      "3000 2.029237066381029e-06\n",
      "3500 2.0469554939950285e-09\n",
      "4000 7.036959903672368e-11\n",
      "4500 3.89208985041023e-08\n"
     ]
    }
   ],
   "source": [
    "train(model)"
   ]
  }
 ],
 "metadata": {
  "kernelspec": {
   "display_name": "Python 3.9.6 64-bit",
   "language": "python",
   "name": "python3"
  },
  "language_info": {
   "codemirror_mode": {
    "name": "ipython",
    "version": 3
   },
   "file_extension": ".py",
   "mimetype": "text/x-python",
   "name": "python",
   "nbconvert_exporter": "python",
   "pygments_lexer": "ipython3",
   "version": "3.9.6"
  },
  "orig_nbformat": 4,
  "vscode": {
   "interpreter": {
    "hash": "ca08f1800f1327b29739f6d5cf8c05fcad1e5c94a5d4ed8fe734038b88ea7e33"
   }
  }
 },
 "nbformat": 4,
 "nbformat_minor": 2
}
