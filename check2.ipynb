{
 "cells": [
  {
   "cell_type": "code",
   "execution_count": null,
   "metadata": {},
   "outputs": [],
   "source": [
    "import torch \n",
    "from train import trainAR\n",
    "from models import *\n",
    "from matplotlib import pyplot as plt\n",
    "import build\n",
    "from tqdm.notebook import tqdm\n",
    "import pytorch_lightning as pl\n",
    "import torch.nn.functional as F"
   ]
  },
  {
   "cell_type": "code",
   "execution_count": null,
   "metadata": {},
   "outputs": [],
   "source": [
    "import build\n",
    "loader = build.dataloader(data='dataset_v6', part=0.1, batch_size=10, shuffle=True)\n",
    "print(len(loader))"
   ]
  },
  {
   "cell_type": "code",
   "execution_count": null,
   "metadata": {},
   "outputs": [],
   "source": [
    "x, y = next(iter(loader))\n",
    "print(x.shape, y.shape)"
   ]
  },
  {
   "cell_type": "code",
   "execution_count": null,
   "metadata": {},
   "outputs": [],
   "source": [
    "print(x.min(), x.max())"
   ]
  },
  {
   "cell_type": "code",
   "execution_count": null,
   "metadata": {},
   "outputs": [],
   "source": [
    "width = 10\n",
    "premodel = Sequential(\n",
    "    ConvBlock(256, width, 1, shift=1),\n",
    "    Res(GatedConvBlock(width, width, 2)),\n",
    "    Res(GatedConvBlock(width, width, 4)),\n",
    "    Res(GatedConvBlock(width, width, 8)),\n",
    "    Res(GatedConvBlock(width, width, 16)),\n",
    "    Res(GatedConvBlock(width, width, 32)),\n",
    "    Res(GatedConvBlock(width, width, 64)),\n",
    "    GatedConvBlock(width, 256, 128),\n",
    "    torch.nn.Tanh(),\n",
    ")"
   ]
  },
  {
   "cell_type": "code",
   "execution_count": null,
   "metadata": {},
   "outputs": [],
   "source": [
    "class DaNet(pl.LightningModule):\n",
    "    def __init__(self, model_loader, noise=0.0):\n",
    "        super().__init__()\n",
    "        self.save_hyperparameters()\n",
    "        self.model = eval(model_loader)\n",
    "    \n",
    "    def forward(self, x):\n",
    "        return self.model(x)\n",
    "    \n",
    "    def training_step(self, batch, batch_idx):\n",
    "        x, aux = batch\n",
    "        x += torch.randn_like(x) * self.hparams.noise\n",
    "        x_hat = self.forward(x)\n",
    "        loss = F.mse_loss(x_hat, x)\n",
    "        self.log(\"train_loss\", loss)\n",
    "        return loss\n",
    "    \n",
    "    def configure_optimizers(self):\n",
    "        optimizer = torch.optim.Adam(self.parameters())\n",
    "        return optimizer"
   ]
  },
  {
   "cell_type": "code",
   "execution_count": null,
   "metadata": {},
   "outputs": [],
   "source": [
    "model = DaNet(module_description(premodel), noise=0.3)\n",
    "trainer = pl.Trainer(log_every_n_steps=5)\n",
    "trainer.fit(model, train_dataloaders=loader)"
   ]
  },
  {
   "cell_type": "code",
   "execution_count": null,
   "metadata": {},
   "outputs": [],
   "source": [
    "print(model)"
   ]
  },
  {
   "cell_type": "code",
   "execution_count": null,
   "metadata": {},
   "outputs": [],
   "source": [
    "# trainAR(\n",
    "#     trial=None,\n",
    "#     device='cpu',\n",
    "#     loader=loader,\n",
    "#     noise=0.1,\n",
    "#     model=model,\n",
    "#     optim=torch.optim.Adam(model.parameters()),\n",
    "#     sched=None,\n",
    "#     criterion=build.criterion(),\n",
    "#     logger=build.logger(console=True, save_rate=1e-3, sample_rate=0.5),\n",
    "#     epochs=10\n",
    "# )"
   ]
  }
 ],
 "metadata": {
  "kernelspec": {
   "display_name": "Python 3.9.6 64-bit",
   "language": "python",
   "name": "python3"
  },
  "language_info": {
   "codemirror_mode": {
    "name": "ipython",
    "version": 3
   },
   "file_extension": ".py",
   "mimetype": "text/x-python",
   "name": "python",
   "nbconvert_exporter": "python",
   "pygments_lexer": "ipython3",
   "version": "3.9.6"
  },
  "orig_nbformat": 4,
  "vscode": {
   "interpreter": {
    "hash": "ca08f1800f1327b29739f6d5cf8c05fcad1e5c94a5d4ed8fe734038b88ea7e33"
   }
  }
 },
 "nbformat": 4,
 "nbformat_minor": 2
}
