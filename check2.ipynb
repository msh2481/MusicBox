{
 "cells": [
  {
   "cell_type": "code",
   "execution_count": 2,
   "metadata": {},
   "outputs": [],
   "source": [
    "import torch \n",
    "from train import trainAR\n",
    "from models import *\n",
    "from matplotlib import pyplot as plt\n",
    "import build\n",
    "from tqdm.notebook import tqdm\n",
    "import pytorch_lightning as pl\n",
    "import torch.nn.functional as F"
   ]
  },
  {
   "cell_type": "code",
   "execution_count": 3,
   "metadata": {},
   "outputs": [
    {
     "name": "stdout",
     "output_type": "stream",
     "text": [
      "10\n"
     ]
    }
   ],
   "source": [
    "import build\n",
    "loader = build.dataloader(data='dataset_v5', part=0.1, batch_size=10, shuffle=True)\n",
    "print(len(loader))"
   ]
  },
  {
   "cell_type": "code",
   "execution_count": 9,
   "metadata": {},
   "outputs": [
    {
     "name": "stdout",
     "output_type": "stream",
     "text": [
      "torch.Size([65536]) torch.Size([])\n"
     ]
    }
   ],
   "source": [
    "x, y = next(iter(loader))\n",
    "x, y = x[0][0], y[0]\n",
    "print(x.shape, y.shape)"
   ]
  },
  {
   "cell_type": "code",
   "execution_count": 11,
   "metadata": {},
   "outputs": [
    {
     "name": "stdout",
     "output_type": "stream",
     "text": [
      "tensor(-4.8108) tensor(4.9401)\n"
     ]
    }
   ],
   "source": [
    "print(x.min(), x.max())"
   ]
  },
  {
   "cell_type": "code",
   "execution_count": 3,
   "metadata": {},
   "outputs": [],
   "source": [
    "width = 10\n",
    "premodel = Sequential(\n",
    "    ConvBlock(1, width, 1, shift=1),\n",
    "    Res(GatedConvBlock(width, width, 2)),\n",
    "    Res(GatedConvBlock(width, width, 4)),\n",
    "    Res(GatedConvBlock(width, width, 8)),\n",
    "    Res(GatedConvBlock(width, width, 16)),\n",
    "    Res(GatedConvBlock(width, width, 32)),\n",
    "    Res(GatedConvBlock(width, width, 64)),\n",
    "    GatedConvBlock(width, 1, 128),\n",
    "    torch.nn.Tanh(),\n",
    ")"
   ]
  },
  {
   "cell_type": "code",
   "execution_count": 8,
   "metadata": {},
   "outputs": [],
   "source": [
    "class DaNet(pl.LightningModule):\n",
    "    def __init__(self, model_loader, noise=0.0):\n",
    "        super().__init__()\n",
    "        self.save_hyperparameters()\n",
    "        self.model = eval(model_loader)\n",
    "    \n",
    "    def forward(self, x):\n",
    "        return self.model(x)\n",
    "    \n",
    "    def training_step(self, batch, batch_idx):\n",
    "        x, aux = batch\n",
    "        x += torch.randn_like(x) * self.hparams.noise\n",
    "        x_hat = self.forward(x)\n",
    "        loss = F.mse_loss(x_hat, x)\n",
    "        self.log(\"train_loss\", loss)\n",
    "        return loss\n",
    "    \n",
    "    def configure_optimizers(self):\n",
    "        optimizer = torch.optim.Adam(self.parameters())\n",
    "        return optimizer"
   ]
  },
  {
   "cell_type": "code",
   "execution_count": 11,
   "metadata": {},
   "outputs": [
    {
     "name": "stderr",
     "output_type": "stream",
     "text": [
      "GPU available: False, used: False\n",
      "TPU available: False, using: 0 TPU cores\n",
      "IPU available: False, using: 0 IPUs\n",
      "HPU available: False, using: 0 HPUs\n",
      "\n",
      "  | Name  | Type       | Params\n",
      "-------------------------------------\n",
      "0 | model | Sequential | 2.7 K \n",
      "-------------------------------------\n",
      "2.7 K     Trainable params\n",
      "0         Non-trainable params\n",
      "2.7 K     Total params\n",
      "0.011     Total estimated model params size (MB)\n"
     ]
    },
    {
     "name": "stdout",
     "output_type": "stream",
     "text": [
      "Epoch 1:  30%|███       | 3/10 [00:07<00:17,  2.56s/it, loss=1.04, v_num=7] "
     ]
    }
   ],
   "source": [
    "model = DaNet(module_description(premodel), noise=0.3)\n",
    "trainer = pl.Trainer(log_every_n_steps=5)\n",
    "trainer.fit(model, train_dataloaders=loader)"
   ]
  },
  {
   "cell_type": "code",
   "execution_count": null,
   "metadata": {},
   "outputs": [
    {
     "name": "stdout",
     "output_type": "stream",
     "text": [
      "DaNet(\n",
      "  (model): Sequential(\n",
      "    (0): Sequential(\n",
      "      (0): BatchNorm1d(1, eps=1e-05, momentum=0.1, affine=True, track_running_stats=True)\n",
      "      (1): Activation(negative_slope=0.2)\n",
      "      (2): Padded(\n",
      "        padding=(2, -1)\n",
      "        (f): Conv1d(1, 10, kernel_size=(2,), stride=(1,), bias=False)\n",
      "      )\n",
      "    )\n",
      "    (1): Sum(\n",
      "      (f): Identity()\n",
      "      (g): Product(\n",
      "        (f): Sequential(\n",
      "          (0): Sequential(\n",
      "            (0): BatchNorm1d(10, eps=1e-05, momentum=0.1, affine=True, track_running_stats=True)\n",
      "            (1): Activation(negative_slope=0.2)\n",
      "            (2): Padded(\n",
      "              padding=(2, 0)\n",
      "              (f): Conv1d(10, 10, kernel_size=(2,), stride=(1,), dilation=(2,), bias=False)\n",
      "            )\n",
      "          )\n",
      "          (1): Tanh()\n",
      "        )\n",
      "        (g): Sequential(\n",
      "          (0): Sequential(\n",
      "            (0): BatchNorm1d(10, eps=1e-05, momentum=0.1, affine=True, track_running_stats=True)\n",
      "            (1): Activation(negative_slope=0.2)\n",
      "            (2): Padded(\n",
      "              padding=(2, 0)\n",
      "              (f): Conv1d(10, 10, kernel_size=(2,), stride=(1,), dilation=(2,), bias=False)\n",
      "            )\n",
      "          )\n",
      "          (1): Sigmoid()\n",
      "        )\n",
      "      )\n",
      "    )\n",
      "    (2): Sum(\n",
      "      (f): Identity()\n",
      "      (g): Product(\n",
      "        (f): Sequential(\n",
      "          (0): Sequential(\n",
      "            (0): BatchNorm1d(10, eps=1e-05, momentum=0.1, affine=True, track_running_stats=True)\n",
      "            (1): Activation(negative_slope=0.2)\n",
      "            (2): Padded(\n",
      "              padding=(4, 0)\n",
      "              (f): Conv1d(10, 10, kernel_size=(2,), stride=(1,), dilation=(4,), bias=False)\n",
      "            )\n",
      "          )\n",
      "          (1): Tanh()\n",
      "        )\n",
      "        (g): Sequential(\n",
      "          (0): Sequential(\n",
      "            (0): BatchNorm1d(10, eps=1e-05, momentum=0.1, affine=True, track_running_stats=True)\n",
      "            (1): Activation(negative_slope=0.2)\n",
      "            (2): Padded(\n",
      "              padding=(4, 0)\n",
      "              (f): Conv1d(10, 10, kernel_size=(2,), stride=(1,), dilation=(4,), bias=False)\n",
      "            )\n",
      "          )\n",
      "          (1): Sigmoid()\n",
      "        )\n",
      "      )\n",
      "    )\n",
      "    (3): Sum(\n",
      "      (f): Identity()\n",
      "      (g): Product(\n",
      "        (f): Sequential(\n",
      "          (0): Sequential(\n",
      "            (0): BatchNorm1d(10, eps=1e-05, momentum=0.1, affine=True, track_running_stats=True)\n",
      "            (1): Activation(negative_slope=0.2)\n",
      "            (2): Padded(\n",
      "              padding=(8, 0)\n",
      "              (f): Conv1d(10, 10, kernel_size=(2,), stride=(1,), dilation=(8,), bias=False)\n",
      "            )\n",
      "          )\n",
      "          (1): Tanh()\n",
      "        )\n",
      "        (g): Sequential(\n",
      "          (0): Sequential(\n",
      "            (0): BatchNorm1d(10, eps=1e-05, momentum=0.1, affine=True, track_running_stats=True)\n",
      "            (1): Activation(negative_slope=0.2)\n",
      "            (2): Padded(\n",
      "              padding=(8, 0)\n",
      "              (f): Conv1d(10, 10, kernel_size=(2,), stride=(1,), dilation=(8,), bias=False)\n",
      "            )\n",
      "          )\n",
      "          (1): Sigmoid()\n",
      "        )\n",
      "      )\n",
      "    )\n",
      "    (4): Sum(\n",
      "      (f): Identity()\n",
      "      (g): Product(\n",
      "        (f): Sequential(\n",
      "          (0): Sequential(\n",
      "            (0): BatchNorm1d(10, eps=1e-05, momentum=0.1, affine=True, track_running_stats=True)\n",
      "            (1): Activation(negative_slope=0.2)\n",
      "            (2): Padded(\n",
      "              padding=(16, 0)\n",
      "              (f): Conv1d(10, 10, kernel_size=(2,), stride=(1,), dilation=(16,), bias=False)\n",
      "            )\n",
      "          )\n",
      "          (1): Tanh()\n",
      "        )\n",
      "        (g): Sequential(\n",
      "          (0): Sequential(\n",
      "            (0): BatchNorm1d(10, eps=1e-05, momentum=0.1, affine=True, track_running_stats=True)\n",
      "            (1): Activation(negative_slope=0.2)\n",
      "            (2): Padded(\n",
      "              padding=(16, 0)\n",
      "              (f): Conv1d(10, 10, kernel_size=(2,), stride=(1,), dilation=(16,), bias=False)\n",
      "            )\n",
      "          )\n",
      "          (1): Sigmoid()\n",
      "        )\n",
      "      )\n",
      "    )\n",
      "    (5): Sum(\n",
      "      (f): Identity()\n",
      "      (g): Product(\n",
      "        (f): Sequential(\n",
      "          (0): Sequential(\n",
      "            (0): BatchNorm1d(10, eps=1e-05, momentum=0.1, affine=True, track_running_stats=True)\n",
      "            (1): Activation(negative_slope=0.2)\n",
      "            (2): Padded(\n",
      "              padding=(32, 0)\n",
      "              (f): Conv1d(10, 10, kernel_size=(2,), stride=(1,), dilation=(32,), bias=False)\n",
      "            )\n",
      "          )\n",
      "          (1): Tanh()\n",
      "        )\n",
      "        (g): Sequential(\n",
      "          (0): Sequential(\n",
      "            (0): BatchNorm1d(10, eps=1e-05, momentum=0.1, affine=True, track_running_stats=True)\n",
      "            (1): Activation(negative_slope=0.2)\n",
      "            (2): Padded(\n",
      "              padding=(32, 0)\n",
      "              (f): Conv1d(10, 10, kernel_size=(2,), stride=(1,), dilation=(32,), bias=False)\n",
      "            )\n",
      "          )\n",
      "          (1): Sigmoid()\n",
      "        )\n",
      "      )\n",
      "    )\n",
      "    (6): Sum(\n",
      "      (f): Identity()\n",
      "      (g): Product(\n",
      "        (f): Sequential(\n",
      "          (0): Sequential(\n",
      "            (0): BatchNorm1d(10, eps=1e-05, momentum=0.1, affine=True, track_running_stats=True)\n",
      "            (1): Activation(negative_slope=0.2)\n",
      "            (2): Padded(\n",
      "              padding=(64, 0)\n",
      "              (f): Conv1d(10, 10, kernel_size=(2,), stride=(1,), dilation=(64,), bias=False)\n",
      "            )\n",
      "          )\n",
      "          (1): Tanh()\n",
      "        )\n",
      "        (g): Sequential(\n",
      "          (0): Sequential(\n",
      "            (0): BatchNorm1d(10, eps=1e-05, momentum=0.1, affine=True, track_running_stats=True)\n",
      "            (1): Activation(negative_slope=0.2)\n",
      "            (2): Padded(\n",
      "              padding=(64, 0)\n",
      "              (f): Conv1d(10, 10, kernel_size=(2,), stride=(1,), dilation=(64,), bias=False)\n",
      "            )\n",
      "          )\n",
      "          (1): Sigmoid()\n",
      "        )\n",
      "      )\n",
      "    )\n",
      "    (7): Product(\n",
      "      (f): Sequential(\n",
      "        (0): Sequential(\n",
      "          (0): BatchNorm1d(10, eps=1e-05, momentum=0.1, affine=True, track_running_stats=True)\n",
      "          (1): Activation(negative_slope=0.2)\n",
      "          (2): Padded(\n",
      "            padding=(128, 0)\n",
      "            (f): Conv1d(10, 1, kernel_size=(2,), stride=(1,), dilation=(128,), bias=False)\n",
      "          )\n",
      "        )\n",
      "        (1): Tanh()\n",
      "      )\n",
      "      (g): Sequential(\n",
      "        (0): Sequential(\n",
      "          (0): BatchNorm1d(10, eps=1e-05, momentum=0.1, affine=True, track_running_stats=True)\n",
      "          (1): Activation(negative_slope=0.2)\n",
      "          (2): Padded(\n",
      "            padding=(128, 0)\n",
      "            (f): Conv1d(10, 1, kernel_size=(2,), stride=(1,), dilation=(128,), bias=False)\n",
      "          )\n",
      "        )\n",
      "        (1): Sigmoid()\n",
      "      )\n",
      "    )\n",
      "    (8): Tanh()\n",
      "  )\n",
      ")\n"
     ]
    }
   ],
   "source": [
    "print(model)"
   ]
  },
  {
   "cell_type": "code",
   "execution_count": null,
   "metadata": {},
   "outputs": [],
   "source": [
    "# trainAR(\n",
    "#     trial=None,\n",
    "#     device='cpu',\n",
    "#     loader=loader,\n",
    "#     noise=0.1,\n",
    "#     model=model,\n",
    "#     optim=torch.optim.Adam(model.parameters()),\n",
    "#     sched=None,\n",
    "#     criterion=build.criterion(),\n",
    "#     logger=build.logger(console=True, save_rate=1e-3, sample_rate=0.5),\n",
    "#     epochs=10\n",
    "# )"
   ]
  }
 ],
 "metadata": {
  "kernelspec": {
   "display_name": "Python 3.9.6 64-bit",
   "language": "python",
   "name": "python3"
  },
  "language_info": {
   "codemirror_mode": {
    "name": "ipython",
    "version": 3
   },
   "file_extension": ".py",
   "mimetype": "text/x-python",
   "name": "python",
   "nbconvert_exporter": "python",
   "pygments_lexer": "ipython3",
   "version": "3.9.6"
  },
  "orig_nbformat": 4,
  "vscode": {
   "interpreter": {
    "hash": "ca08f1800f1327b29739f6d5cf8c05fcad1e5c94a5d4ed8fe734038b88ea7e33"
   }
  }
 },
 "nbformat": 4,
 "nbformat_minor": 2
}
